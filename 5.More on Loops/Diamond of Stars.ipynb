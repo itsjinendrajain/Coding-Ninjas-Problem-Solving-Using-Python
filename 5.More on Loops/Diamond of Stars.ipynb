{
 "cells": [
  {
   "cell_type": "markdown",
   "metadata": {},
   "source": [
    "# Diamond of Stars\n",
    "Print the following pattern for the given number of rows.\n",
    "<br>Note: N is always odd.\n",
    "<br><b>Pattern for N = 5</b>\n",
    "![Diamond of Star](https://imgur.com/download/MPB9rTl)\n",
    "<b>The dots represent spaces.</b><br>\n",
    "Input format :<br>\n",
    "N (Total no. of rows and can only be odd)<br>\n",
    "<br>\n",
    "Output format :<br>\n",
    "Pattern in N lines<br>\n",
    "<br>\n",
    "Constraints :<br>\n",
    "1 <= N <= 49<br>\n",
    "<br>"
   ]
  },
  {
   "cell_type": "code",
   "execution_count": null,
   "metadata": {},
   "outputs": [],
   "source": [
    "n=int(input()),
    "c="*",
    "j=n//2,
    "for i in range(j+1):        ,
    "    print((c*i).rjust(j)+c+(c*i).ljust(j)),
    "                                      ,
    "if n>5 and n%2==0:,
    "    for k in range(j-2,-1,-1):,
    "        print((c*k).rjust(j)+c+(c*k).ljust(j)),
    "else:,
    "    for k in range(j-1,-1,-1):,
    "        print((c*k).rjust(j)+c+(c*k).ljust(j)),
    "    "
   ]
  }
 ],
 "metadata": {
  "kernelspec": {
   "display_name": "Python 3",
   "language": "python",
   "name": "python3"
  },
  "language_info": {
   "codemirror_mode": {
    "name": "ipython",
    "version": 3
   },
   "file_extension": ".py",
   "mimetype": "text/x-python",
   "name": "python",
   "nbconvert_exporter": "python",
   "pygments_lexer": "ipython3",
   "version": "3.8.6"
  }
 },
 "nbformat": 4,
 "nbformat_minor": 4
}
